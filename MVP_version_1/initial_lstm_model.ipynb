{
 "cells": [
  {
   "cell_type": "code",
   "execution_count": 18,
   "id": "invalid-pricing",
   "metadata": {},
   "outputs": [],
   "source": [
    "from keras.models import Sequential\n",
    "from keras.layers import Dense, Dropout, LSTM\n",
    "from keras.optimizers import RMSprop\n",
    "import numpy as np\n",
    "import random\n",
    "import sys"
   ]
  },
  {
   "cell_type": "code",
   "execution_count": 23,
   "id": "narrative-vocabulary",
   "metadata": {},
   "outputs": [
    {
     "name": "stdout",
     "output_type": "stream",
     "text": [
      "the project gutenberg ebook of the jungle book, by rudyard kipling\n",
      "\n",
      "this ebook is for the use of anyone anywhere at no cost and with\n",
      "almost no restrictions whatsoever.  you may copy it, give it away or\n",
      "re-use it under the terms of the project gutenberg license included\n",
      "with this ebook or online at www.gutenberg.org\n",
      "\n",
      "\n",
      "title: the jungle book\n",
      "\n",
      "author: rudyard kipling\n",
      "\n",
      "release date: january 16, 2006 [ebook #236]\n",
      "last updated: october 6, 2016\n",
      "\n",
      "language: english\n",
      "\n",
      "character set encoding: utf-8\n",
      "\n",
      "*** sta\n"
     ]
    }
   ],
   "source": [
    "#LOAD TEXT\n",
    "#Save notepad as UTF-8 (select from dropdown during saving)\n",
    "filename = \"data.txt\"\n",
    "raw_text = open(filename, 'r', encoding='utf-8').read()\n",
    "raw_text = raw_text.lower()\n",
    "print(raw_text[0:500])"
   ]
  },
  {
   "cell_type": "code",
   "execution_count": 24,
   "id": "fabulous-mercy",
   "metadata": {},
   "outputs": [],
   "source": [
    "#CLEAN TEXT\n",
    "#Remove numbers\n",
    "raw_text = ''.join(c for c in raw_text if not c.isdigit())\n",
    "\n",
    "#How many total characters do we have in our training text?\n",
    "chars = sorted(list(set(raw_text))) #List of every character\n",
    "\n",
    "#Character sequences must be encoded as integers. \n",
    "#Each unique character will be assigned an integer value. \n",
    "#Create a dictionary of characters mapped to integer values\n",
    "char_to_int = dict((c, i) for i, c in enumerate(chars))\n",
    "\n",
    "#Do the reverse so we can print our predictions in characters and not integers\n",
    "int_to_char = dict((i, c) for i, c in enumerate(chars))"
   ]
  },
  {
   "cell_type": "code",
   "execution_count": 25,
   "id": "superb-biology",
   "metadata": {},
   "outputs": [
    {
     "name": "stdout",
     "output_type": "stream",
     "text": [
      "Total Characters in the text; corpus length:  292868\n",
      "Total Vocab:  50\n"
     ]
    }
   ],
   "source": [
    "# summarize the data\n",
    "n_chars = len(raw_text)\n",
    "n_vocab = len(chars)\n",
    "print(\"Total Characters in the text; corpus length: \", n_chars)\n",
    "print(\"Total Vocab: \", n_vocab)"
   ]
  },
  {
   "cell_type": "code",
   "execution_count": 26,
   "id": "thousand-paragraph",
   "metadata": {},
   "outputs": [
    {
     "name": "stdout",
     "output_type": "stream",
     "text": [
      "Number of sequences: 29281\n"
     ]
    }
   ],
   "source": [
    "seq_length = 60  #Length of each input sequence\n",
    "step = 10   #Instead of moving 1 letter at a time, try skipping a few. \n",
    "sentences = []    # X values (Sentences)\n",
    "next_chars = []   # Y values. The character that follows the sentence defined as X\n",
    "for i in range(0, n_chars - seq_length, step):  #step=1 means each sentence is offset just by a single letter\n",
    "    sentences.append(raw_text[i: i + seq_length])  #Sequence in\n",
    "    next_chars.append(raw_text[i + seq_length])  #Sequence out\n",
    "n_patterns = len(sentences)    \n",
    "print('Number of sequences:', n_patterns)"
   ]
  },
  {
   "cell_type": "code",
   "execution_count": 27,
   "id": "exterior-headset",
   "metadata": {},
   "outputs": [
    {
     "name": "stdout",
     "output_type": "stream",
     "text": [
      "(29281, 60, 50)\n",
      "(29281, 50)\n",
      "[[False False False False False False False False False False False False\n",
      "  False False False False False False False False False False False False\n",
      "  False False False False  True False False False False False False False\n",
      "  False False False False False False False False False False False False\n",
      "  False False]\n",
      " [False False False False False False False False False False False False\n",
      "  False False False False False False False False False False False False\n",
      "  False False False False  True False False False False False False False\n",
      "  False False False False False False False False False False False False\n",
      "  False False]\n",
      " [False False False False False False False False False False False False\n",
      "  False False False False False False False False False False False False\n",
      "  False False False False False False False False False False False False\n",
      "  False False  True False False False False False False False False False\n",
      "  False False]\n",
      " [False False False False False False False False False False False False\n",
      "  False False False False False False False False False False False False\n",
      "  False False False False False False False False False False False False\n",
      "  False False False False  True False False False False False False False\n",
      "  False False]\n",
      " [False False False False False False False False False False False False\n",
      "  False False False False False False False False False False False False\n",
      "  False False False False False False False False False False  True False\n",
      "  False False False False False False False False False False False False\n",
      "  False False]\n",
      " [False False False False False False False False False False False False\n",
      "  False False False False False False False False False False False False\n",
      "  False False False False False False False False False False False False\n",
      "  False  True False False False False False False False False False False\n",
      "  False False]\n",
      " [False False False False False False False False False False False False\n",
      "  False False False False False False False False False False False False\n",
      "  False False False False False False False False False False  True False\n",
      "  False False False False False False False False False False False False\n",
      "  False False]\n",
      " [False False False False False False False False False False False False\n",
      "  False False False False False False False False False False False False\n",
      "  False False False False False False False False False False False False\n",
      "  False False False  True False False False False False False False False\n",
      "  False False]\n",
      " [False False False False False False False False False False False False\n",
      "  False False False False False False False False False False False False\n",
      "  False False False False False False False False False  True False False\n",
      "  False False False False False False False False False False False False\n",
      "  False False]\n",
      " [False False False False False False False False False False False False\n",
      "  False False False False False False False False False False False False\n",
      "  False False False False False False False False False False False False\n",
      "  False False False  True False False False False False False False False\n",
      "  False False]]\n"
     ]
    }
   ],
   "source": [
    "x = np.zeros((len(sentences), seq_length, n_vocab), dtype=np.bool)\n",
    "y = np.zeros((len(sentences), n_vocab), dtype=np.bool)\n",
    "for i, sentence in enumerate(sentences):\n",
    "    for t, char in enumerate(sentence):\n",
    "        x[i, t, char_to_int[char]] = 1\n",
    "    y[i, char_to_int[next_chars[i]]] = 1\n",
    "    \n",
    "print(x.shape)\n",
    "print(y.shape)\n",
    "\n",
    "print(y[0:10])"
   ]
  },
  {
   "cell_type": "code",
   "execution_count": 28,
   "id": "dimensional-destiny",
   "metadata": {},
   "outputs": [
    {
     "name": "stdout",
     "output_type": "stream",
     "text": [
      "Model: \"sequential_1\"\n",
      "_________________________________________________________________\n",
      "Layer (type)                 Output Shape              Param #   \n",
      "=================================================================\n",
      "lstm_1 (LSTM)                (None, 128)               91648     \n",
      "_________________________________________________________________\n",
      "dense_1 (Dense)              (None, 50)                6450      \n",
      "=================================================================\n",
      "Total params: 98,098\n",
      "Trainable params: 98,098\n",
      "Non-trainable params: 0\n",
      "_________________________________________________________________\n"
     ]
    }
   ],
   "source": [
    "model = Sequential()\n",
    "model.add(LSTM(128, input_shape=(seq_length, n_vocab)))\n",
    "model.add(Dense(n_vocab, activation='softmax'))\n",
    "\n",
    "optimizer = RMSprop(lr=0.01)\n",
    "model.compile(loss='categorical_crossentropy', optimizer=optimizer)\n",
    "model.summary()"
   ]
  },
  {
   "cell_type": "code",
   "execution_count": 29,
   "id": "shaped-porter",
   "metadata": {},
   "outputs": [],
   "source": [
    "# define the checkpoint\n",
    "from keras.callbacks import ModelCheckpoint\n",
    "\n",
    "filepath=\"saved_weights/saved_weights-{epoch:02d}-{loss:.4f}.hdf5\"\n",
    "checkpoint = ModelCheckpoint(filepath, monitor='loss', verbose=1, save_best_only=True, mode='min')\n",
    "\n",
    "callbacks_list = [checkpoint]"
   ]
  },
  {
   "cell_type": "code",
   "execution_count": 30,
   "id": "developmental-iceland",
   "metadata": {},
   "outputs": [
    {
     "name": "stdout",
     "output_type": "stream",
     "text": [
      "Epoch 1/50\n",
      "229/229 [==============================] - ETA: 0s - loss: 2.5115\n",
      "Epoch 00001: loss improved from inf to 2.51146, saving model to saved_weights\\saved_weights-01-2.5115.hdf5\n",
      "229/229 [==============================] - 17s 76ms/step - loss: 2.5115\n",
      "Epoch 2/50\n",
      "229/229 [==============================] - ETA: 0s - loss: 2.0282\n",
      "Epoch 00002: loss improved from 2.51146 to 2.02823, saving model to saved_weights\\saved_weights-02-2.0282.hdf5\n",
      "229/229 [==============================] - 18s 77ms/step - loss: 2.0282\n",
      "Epoch 3/50\n",
      "229/229 [==============================] - ETA: 0s - loss: 1.8327\n",
      "Epoch 00003: loss improved from 2.02823 to 1.83267, saving model to saved_weights\\saved_weights-03-1.8327.hdf5\n",
      "229/229 [==============================] - 18s 78ms/step - loss: 1.8327\n",
      "Epoch 4/50\n",
      "229/229 [==============================] - ETA: 0s - loss: 1.6878\n",
      "Epoch 00004: loss improved from 1.83267 to 1.68779, saving model to saved_weights\\saved_weights-04-1.6878.hdf5\n",
      "229/229 [==============================] - 18s 78ms/step - loss: 1.6878\n",
      "Epoch 5/50\n",
      "229/229 [==============================] - ETA: 0s - loss: 1.5673\n",
      "Epoch 00005: loss improved from 1.68779 to 1.56733, saving model to saved_weights\\saved_weights-05-1.5673.hdf5\n",
      "229/229 [==============================] - 18s 78ms/step - loss: 1.5673\n",
      "Epoch 6/50\n",
      "229/229 [==============================] - ETA: 0s - loss: 1.4596\n",
      "Epoch 00006: loss improved from 1.56733 to 1.45957, saving model to saved_weights\\saved_weights-06-1.4596.hdf5\n",
      "229/229 [==============================] - 18s 77ms/step - loss: 1.4596\n",
      "Epoch 7/50\n",
      "229/229 [==============================] - ETA: 0s - loss: 1.3678\n",
      "Epoch 00007: loss improved from 1.45957 to 1.36782, saving model to saved_weights\\saved_weights-07-1.3678.hdf5\n",
      "229/229 [==============================] - 18s 78ms/step - loss: 1.3678\n",
      "Epoch 8/50\n",
      "229/229 [==============================] - ETA: 0s - loss: 1.2909\n",
      "Epoch 00008: loss improved from 1.36782 to 1.29093, saving model to saved_weights\\saved_weights-08-1.2909.hdf5\n",
      "229/229 [==============================] - 18s 79ms/step - loss: 1.2909\n",
      "Epoch 9/50\n",
      "229/229 [==============================] - ETA: 0s - loss: 1.2222\n",
      "Epoch 00009: loss improved from 1.29093 to 1.22215, saving model to saved_weights\\saved_weights-09-1.2222.hdf5\n",
      "229/229 [==============================] - 18s 80ms/step - loss: 1.2222\n",
      "Epoch 10/50\n",
      "229/229 [==============================] - ETA: 0s - loss: 1.1710\n",
      "Epoch 00010: loss improved from 1.22215 to 1.17098, saving model to saved_weights\\saved_weights-10-1.1710.hdf5\n",
      "229/229 [==============================] - 18s 78ms/step - loss: 1.1710\n",
      "Epoch 11/50\n",
      "229/229 [==============================] - ETA: 0s - loss: 1.1306\n",
      "Epoch 00011: loss improved from 1.17098 to 1.13063, saving model to saved_weights\\saved_weights-11-1.1306.hdf5\n",
      "229/229 [==============================] - 18s 78ms/step - loss: 1.1306\n",
      "Epoch 12/50\n",
      "229/229 [==============================] - ETA: 0s - loss: 1.0882\n",
      "Epoch 00012: loss improved from 1.13063 to 1.08825, saving model to saved_weights\\saved_weights-12-1.0882.hdf5\n",
      "229/229 [==============================] - 19s 81ms/step - loss: 1.0882\n",
      "Epoch 13/50\n",
      "229/229 [==============================] - ETA: 0s - loss: 1.0658\n",
      "Epoch 00013: loss improved from 1.08825 to 1.06581, saving model to saved_weights\\saved_weights-13-1.0658.hdf5\n",
      "229/229 [==============================] - 18s 77ms/step - loss: 1.0658\n",
      "Epoch 14/50\n",
      "229/229 [==============================] - ETA: 0s - loss: 1.0403\n",
      "Epoch 00014: loss improved from 1.06581 to 1.04033, saving model to saved_weights\\saved_weights-14-1.0403.hdf5\n",
      "229/229 [==============================] - 18s 77ms/step - loss: 1.0403\n",
      "Epoch 15/50\n",
      "229/229 [==============================] - ETA: 0s - loss: 1.0191\n",
      "Epoch 00015: loss improved from 1.04033 to 1.01911, saving model to saved_weights\\saved_weights-15-1.0191.hdf5\n",
      "229/229 [==============================] - 18s 77ms/step - loss: 1.0191\n",
      "Epoch 16/50\n",
      "229/229 [==============================] - ETA: 0s - loss: 1.0026\n",
      "Epoch 00016: loss improved from 1.01911 to 1.00261, saving model to saved_weights\\saved_weights-16-1.0026.hdf5\n",
      "229/229 [==============================] - 18s 77ms/step - loss: 1.0026\n",
      "Epoch 17/50\n",
      "229/229 [==============================] - ETA: 0s - loss: 0.9872\n",
      "Epoch 00017: loss improved from 1.00261 to 0.98723, saving model to saved_weights\\saved_weights-17-0.9872.hdf5\n",
      "229/229 [==============================] - 18s 79ms/step - loss: 0.9872\n",
      "Epoch 18/50\n",
      "229/229 [==============================] - ETA: 0s - loss: 0.9744\n",
      "Epoch 00018: loss improved from 0.98723 to 0.97436, saving model to saved_weights\\saved_weights-18-0.9744.hdf5\n",
      "229/229 [==============================] - 18s 78ms/step - loss: 0.9744\n",
      "Epoch 19/50\n",
      "229/229 [==============================] - ETA: 0s - loss: 0.9329\n",
      "Epoch 00019: loss improved from 0.97436 to 0.93293, saving model to saved_weights\\saved_weights-19-0.9329.hdf5\n",
      "229/229 [==============================] - 18s 77ms/step - loss: 0.9329\n",
      "Epoch 20/50\n",
      "229/229 [==============================] - ETA: 0s - loss: 0.9389\n",
      "Epoch 00020: loss did not improve from 0.93293\n",
      "229/229 [==============================] - 18s 78ms/step - loss: 0.9389\n",
      "Epoch 21/50\n",
      "229/229 [==============================] - ETA: 0s - loss: 0.9215\n",
      "Epoch 00021: loss improved from 0.93293 to 0.92149, saving model to saved_weights\\saved_weights-21-0.9215.hdf5\n",
      "229/229 [==============================] - 18s 78ms/step - loss: 0.9215\n",
      "Epoch 22/50\n",
      "229/229 [==============================] - ETA: 0s - loss: 0.9214\n",
      "Epoch 00022: loss improved from 0.92149 to 0.92140, saving model to saved_weights\\saved_weights-22-0.9214.hdf5\n",
      "229/229 [==============================] - 18s 78ms/step - loss: 0.9214\n",
      "Epoch 23/50\n",
      "229/229 [==============================] - ETA: 0s - loss: 0.9045\n",
      "Epoch 00023: loss improved from 0.92140 to 0.90453, saving model to saved_weights\\saved_weights-23-0.9045.hdf5\n",
      "229/229 [==============================] - 18s 78ms/step - loss: 0.9045\n",
      "Epoch 24/50\n",
      "229/229 [==============================] - ETA: 0s - loss: 0.8915\n",
      "Epoch 00024: loss improved from 0.90453 to 0.89149, saving model to saved_weights\\saved_weights-24-0.8915.hdf5\n",
      "229/229 [==============================] - 19s 81ms/step - loss: 0.8915\n",
      "Epoch 25/50\n",
      "229/229 [==============================] - ETA: 0s - loss: 0.8780\n",
      "Epoch 00025: loss improved from 0.89149 to 0.87798, saving model to saved_weights\\saved_weights-25-0.8780.hdf5\n",
      "229/229 [==============================] - 22s 98ms/step - loss: 0.8780\n",
      "Epoch 26/50\n",
      "229/229 [==============================] - ETA: 0s - loss: 0.8634\n",
      "Epoch 00026: loss improved from 0.87798 to 0.86344, saving model to saved_weights\\saved_weights-26-0.8634.hdf5\n",
      "229/229 [==============================] - 20s 86ms/step - loss: 0.8634\n",
      "Epoch 27/50\n",
      "229/229 [==============================] - ETA: 0s - loss: 0.8482\n",
      "Epoch 00027: loss improved from 0.86344 to 0.84823, saving model to saved_weights\\saved_weights-27-0.8482.hdf5\n",
      "229/229 [==============================] - 19s 81ms/step - loss: 0.8482\n",
      "Epoch 28/50\n",
      "229/229 [==============================] - ETA: 0s - loss: 0.8425\n",
      "Epoch 00028: loss improved from 0.84823 to 0.84248, saving model to saved_weights\\saved_weights-28-0.8425.hdf5\n",
      "229/229 [==============================] - 18s 79ms/step - loss: 0.8425\n",
      "Epoch 29/50\n",
      "229/229 [==============================] - ETA: 0s - loss: 0.8305\n",
      "Epoch 00029: loss improved from 0.84248 to 0.83051, saving model to saved_weights\\saved_weights-29-0.8305.hdf5\n",
      "229/229 [==============================] - 18s 77ms/step - loss: 0.8305\n",
      "Epoch 30/50\n",
      "229/229 [==============================] - ETA: 0s - loss: 0.8175\n",
      "Epoch 00030: loss improved from 0.83051 to 0.81752, saving model to saved_weights\\saved_weights-30-0.8175.hdf5\n",
      "229/229 [==============================] - 18s 77ms/step - loss: 0.8175\n",
      "Epoch 31/50\n",
      "229/229 [==============================] - ETA: 0s - loss: 0.8049\n",
      "Epoch 00031: loss improved from 0.81752 to 0.80486, saving model to saved_weights\\saved_weights-31-0.8049.hdf5\n",
      "229/229 [==============================] - 17s 76ms/step - loss: 0.8049\n",
      "Epoch 32/50\n",
      "229/229 [==============================] - ETA: 0s - loss: 0.7925\n",
      "Epoch 00032: loss improved from 0.80486 to 0.79253, saving model to saved_weights\\saved_weights-32-0.7925.hdf5\n",
      "229/229 [==============================] - 17s 76ms/step - loss: 0.7925\n"
     ]
    },
    {
     "name": "stdout",
     "output_type": "stream",
     "text": [
      "Epoch 33/50\n",
      "229/229 [==============================] - ETA: 0s - loss: 0.7902\n",
      "Epoch 00033: loss improved from 0.79253 to 0.79018, saving model to saved_weights\\saved_weights-33-0.7902.hdf5\n",
      "229/229 [==============================] - 19s 82ms/step - loss: 0.7902\n",
      "Epoch 34/50\n",
      "229/229 [==============================] - ETA: 0s - loss: 0.7758\n",
      "Epoch 00034: loss improved from 0.79018 to 0.77581, saving model to saved_weights\\saved_weights-34-0.7758.hdf5\n",
      "229/229 [==============================] - 18s 77ms/step - loss: 0.7758\n",
      "Epoch 35/50\n",
      "229/229 [==============================] - ETA: 0s - loss: 0.7598\n",
      "Epoch 00035: loss improved from 0.77581 to 0.75976, saving model to saved_weights\\saved_weights-35-0.7598.hdf5\n",
      "229/229 [==============================] - 19s 81ms/step - loss: 0.7598\n",
      "Epoch 36/50\n",
      "229/229 [==============================] - ETA: 0s - loss: 0.7468\n",
      "Epoch 00036: loss improved from 0.75976 to 0.74681, saving model to saved_weights\\saved_weights-36-0.7468.hdf5\n",
      "229/229 [==============================] - 19s 82ms/step - loss: 0.7468\n",
      "Epoch 37/50\n",
      "229/229 [==============================] - ETA: 0s - loss: 0.7361\n",
      "Epoch 00037: loss improved from 0.74681 to 0.73606, saving model to saved_weights\\saved_weights-37-0.7361.hdf5\n",
      "229/229 [==============================] - 18s 79ms/step - loss: 0.7361\n",
      "Epoch 38/50\n",
      "229/229 [==============================] - ETA: 0s - loss: 0.7424\n",
      "Epoch 00038: loss did not improve from 0.73606\n",
      "229/229 [==============================] - 18s 78ms/step - loss: 0.7424\n",
      "Epoch 39/50\n",
      "229/229 [==============================] - ETA: 0s - loss: 0.7372\n",
      "Epoch 00039: loss did not improve from 0.73606\n",
      "229/229 [==============================] - 18s 78ms/step - loss: 0.7372\n",
      "Epoch 40/50\n",
      "229/229 [==============================] - ETA: 0s - loss: 0.7180\n",
      "Epoch 00040: loss improved from 0.73606 to 0.71804, saving model to saved_weights\\saved_weights-40-0.7180.hdf5\n",
      "229/229 [==============================] - 18s 79ms/step - loss: 0.7180\n",
      "Epoch 41/50\n",
      "229/229 [==============================] - ETA: 0s - loss: 0.7096\n",
      "Epoch 00041: loss improved from 0.71804 to 0.70964, saving model to saved_weights\\saved_weights-41-0.7096.hdf5\n",
      "229/229 [==============================] - 18s 79ms/step - loss: 0.7096\n",
      "Epoch 42/50\n",
      "229/229 [==============================] - ETA: 0s - loss: 0.6974\n",
      "Epoch 00042: loss improved from 0.70964 to 0.69740, saving model to saved_weights\\saved_weights-42-0.6974.hdf5\n",
      "229/229 [==============================] - 19s 83ms/step - loss: 0.6974\n",
      "Epoch 43/50\n",
      "229/229 [==============================] - ETA: 0s - loss: 0.6896\n",
      "Epoch 00043: loss improved from 0.69740 to 0.68959, saving model to saved_weights\\saved_weights-43-0.6896.hdf5\n",
      "229/229 [==============================] - 18s 79ms/step - loss: 0.6896\n",
      "Epoch 44/50\n",
      "229/229 [==============================] - ETA: 0s - loss: 0.6790\n",
      "Epoch 00044: loss improved from 0.68959 to 0.67899, saving model to saved_weights\\saved_weights-44-0.6790.hdf5\n",
      "229/229 [==============================] - 18s 79ms/step - loss: 0.6790\n",
      "Epoch 45/50\n",
      "229/229 [==============================] - ETA: 0s - loss: 0.6711\n",
      "Epoch 00045: loss improved from 0.67899 to 0.67115, saving model to saved_weights\\saved_weights-45-0.6711.hdf5\n",
      "229/229 [==============================] - 18s 78ms/step - loss: 0.6711\n",
      "Epoch 46/50\n",
      "229/229 [==============================] - ETA: 0s - loss: 0.6634\n",
      "Epoch 00046: loss improved from 0.67115 to 0.66343, saving model to saved_weights\\saved_weights-46-0.6634.hdf5\n",
      "229/229 [==============================] - 18s 78ms/step - loss: 0.6634\n",
      "Epoch 47/50\n",
      "229/229 [==============================] - ETA: 0s - loss: 0.6568\n",
      "Epoch 00047: loss improved from 0.66343 to 0.65683, saving model to saved_weights\\saved_weights-47-0.6568.hdf5\n",
      "229/229 [==============================] - 18s 79ms/step - loss: 0.6568\n",
      "Epoch 48/50\n",
      "229/229 [==============================] - ETA: 0s - loss: 0.6514\n",
      "Epoch 00048: loss improved from 0.65683 to 0.65138, saving model to saved_weights\\saved_weights-48-0.6514.hdf5\n",
      "229/229 [==============================] - 18s 81ms/step - loss: 0.6514\n",
      "Epoch 49/50\n",
      "229/229 [==============================] - ETA: 0s - loss: 0.6427\n",
      "Epoch 00049: loss improved from 0.65138 to 0.64273, saving model to saved_weights\\saved_weights-49-0.6427.hdf5\n",
      "229/229 [==============================] - 18s 80ms/step - loss: 0.6427\n",
      "Epoch 50/50\n",
      "229/229 [==============================] - ETA: 0s - loss: 0.6411\n",
      "Epoch 00050: loss improved from 0.64273 to 0.64114, saving model to saved_weights\\saved_weights-50-0.6411.hdf5\n",
      "229/229 [==============================] - 21s 90ms/step - loss: 0.6411\n"
     ]
    }
   ],
   "source": [
    "# Fit the model\n",
    "\n",
    "history = model.fit(x, y,\n",
    "          batch_size=128,\n",
    "          epochs=50,   \n",
    "          callbacks=callbacks_list)\n",
    "\n",
    "model.save('my_saved_weights_jungle_book_50epochs.h5')"
   ]
  },
  {
   "cell_type": "code",
   "execution_count": 33,
   "id": "green-recruitment",
   "metadata": {},
   "outputs": [
    {
     "data": {
      "image/png": "[encoded data removed]",
      "text/plain": [
       "<Figure size 432x288 with 1 Axes>"
      ]
     },
     "metadata": {
      "needs_background": "light"
     },
     "output_type": "display_data"
    }
   ],
   "source": [
    "from matplotlib import pyplot as plt\n",
    "#plot the training and validation accuracy and loss at each epoch\n",
    "loss = history.history['loss']\n",
    "epochs = range(1, len(loss) + 1)\n",
    "plt.plot(epochs, loss, 'y', label='Training loss')\n",
    "plt.title('Training loss')\n",
    "plt.xlabel('Epochs')\n",
    "plt.ylabel('Loss')\n",
    "plt.legend()\n",
    "plt.show()"
   ]
  },
  {
   "cell_type": "code",
   "execution_count": 34,
   "id": "strong-postcard",
   "metadata": {},
   "outputs": [],
   "source": [
    "def sample(preds):\n",
    "    preds = np.asarray(preds).astype('float64')\n",
    "    preds = np.log(preds)\n",
    "    exp_preds = np.exp(preds) #exp of log (x), isn't this same as x??\n",
    "    preds = exp_preds / np.sum(exp_preds)\n",
    "    probas = np.random.multinomial(1, preds, 1) \n",
    "    return np.argmax(probas)"
   ]
  },
  {
   "cell_type": "code",
   "execution_count": 36,
   "id": "interim-potato",
   "metadata": {},
   "outputs": [
    {
     "name": "stdout",
     "output_type": "stream",
     "text": [
      "----- Seed for our text prediction: \"t\n",
      "of a hook-and-eye fastening. he was afraid for the minute,\"\n"
     ]
    }
   ],
   "source": [
    "#Prediction\n",
    "# load the network weights\n",
    "filename = \"my_saved_weights_jungle_book_50epochs.h5\"\n",
    "model.load_weights(filename)\n",
    "\n",
    "#Pick a random sentence from the text as seed.\n",
    "start_index = random.randint(0, n_chars - seq_length - 1)\n",
    "\n",
    "#Initiate generated text and keep adding new predictions and print them out\n",
    "generated = ''\n",
    "sentence = raw_text[start_index: start_index + seq_length]\n",
    "generated += sentence\n",
    "\n",
    "print('----- Seed for our text prediction: \"' + sentence + '\"')\n",
    "#sys.stdout.write(generated)\n",
    "\n"
   ]
  },
  {
   "cell_type": "code",
   "execution_count": 37,
   "id": "after-uniform",
   "metadata": {},
   "outputs": [
    {
     "name": "stdout",
     "output_type": "stream",
     "text": [
      "” said the jungle. sham the sea look\n",
      "helves would cin to-titi-tle find the\n",
      "lust grop, and we cungaraled miger-tundra. this was their dy. sheather.  what because he\n",
      "naughe. then you canyighling. the man’y elephants to\n",
      "shill as sirven the dark; and\n",
      "the firnding hand o” mongars, should sides.”\n",
      "\n",
      "rikitioks weather, darze.” bugat--was siacing up where khan he man under answays into don’t foot?” bring br\n"
     ]
    }
   ],
   "source": [
    "for i in range(400):   # Number of characters including spaces\n",
    "    x_pred = np.zeros((1, seq_length, n_vocab))\n",
    "    for t, char in enumerate(sentence):\n",
    "        x_pred[0, t, char_to_int[char]] = 1.\n",
    "\n",
    "    preds = model.predict(x_pred, verbose=0)[0]\n",
    "    next_index = sample(preds)\n",
    "    next_char = int_to_char[next_index]\n",
    "\n",
    "    generated += next_char\n",
    "    sentence = sentence[1:] + next_char\n",
    "\n",
    "    sys.stdout.write(next_char)\n",
    "    sys.stdout.flush()\n",
    "print()"
   ]
  },
  {
   "cell_type": "code",
   "execution_count": 32,
   "id": "formal-religious",
   "metadata": {},
   "outputs": [
    {
     "name": "stdout",
     "output_type": "stream",
     "text": [
      "Collecting matplotlib\n",
      "  Downloading matplotlib-3.3.4-cp37-cp37m-win_amd64.whl (8.5 MB)\n",
      "Requirement already satisfied: numpy>=1.15 in c:\\users\\19055\\anaconda3\\envs\\tensorflow\\lib\\site-packages (from matplotlib) (1.19.2)\n",
      "Requirement already satisfied: python-dateutil>=2.1 in c:\\users\\19055\\anaconda3\\envs\\tensorflow\\lib\\site-packages (from matplotlib) (2.8.1)\n",
      "Requirement already satisfied: pyparsing!=2.0.4,!=2.1.2,!=2.1.6,>=2.0.3 in c:\\users\\19055\\anaconda3\\envs\\tensorflow\\lib\\site-packages (from matplotlib) (2.4.7)\n",
      "Collecting cycler>=0.10\n",
      "  Using cached cycler-0.10.0-py2.py3-none-any.whl (6.5 kB)\n",
      "Requirement already satisfied: six in c:\\users\\19055\\anaconda3\\envs\\tensorflow\\lib\\site-packages (from cycler>=0.10->matplotlib) (1.15.0)\n",
      "Collecting kiwisolver>=1.0.1\n",
      "  Downloading kiwisolver-1.3.1-cp37-cp37m-win_amd64.whl (51 kB)\n",
      "Collecting pillow>=6.2.0\n",
      "  Downloading Pillow-8.1.0-cp37-cp37m-win_amd64.whl (2.2 MB)\n",
      "Installing collected packages: pillow, kiwisolver, cycler, matplotlib\n",
      "Successfully installed cycler-0.10.0 kiwisolver-1.3.1 matplotlib-3.3.4 pillow-8.1.0\n",
      "Note: you may need to restart the kernel to use updated packages.\n"
     ]
    }
   ],
   "source": [
    "pip install matplotlib"
   ]
  },
  {
   "cell_type": "code",
   "execution_count": null,
   "id": "distinguished-walker",
   "metadata": {},
   "outputs": [],
   "source": []
  }
 ],
 "metadata": {
  "kernelspec": {
   "display_name": "Python 3",
   "language": "python",
   "name": "python3"
  },
  "language_info": {
   "codemirror_mode": {
    "name": "ipython",
    "version": 3
   },
   "file_extension": ".py",
   "mimetype": "text/x-python",
   "name": "python",
   "nbconvert_exporter": "python",
   "pygments_lexer": "ipython3",
   "version": "3.7.9"
  }
 },
 "nbformat": 4,
 "nbformat_minor": 5
}
